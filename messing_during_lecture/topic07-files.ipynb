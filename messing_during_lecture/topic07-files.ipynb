{
 "cells": [
  {
   "cell_type": "markdown",
   "metadata": {},
   "source": [
    "# Files"
   ]
  },
  {
   "cell_type": "markdown",
   "metadata": {},
   "source": [
    "This Topic will cover\n",
    "- opening files in different modes\n",
    "- reading and writing to files \n",
    "- using different file formats\n",
    "\n",
    "I will cover ``pandas`` in a later topic. Pandas is very useful for reading and writing to excel files and manipulating data in a table format"
   ]
  },
  {
   "cell_type": "markdown",
   "metadata": {},
   "source": [
    "##### Before we start:\n",
    "You can run a shell command in a notebook using !\n",
    "so to see what is in this directory in windows ``!dir`` in mac or linux ``!ls``\n",
    "\n",
    "There is also a \"magic command ``%ls`` that will work on all OS (``%pwd`` will show the present working directory)"
   ]
  },
  {
   "cell_type": "code",
   "execution_count": 1,
   "metadata": {},
   "outputs": [
    {
     "name": "stdout",
     "output_type": "stream",
     "text": [
      "\u001b[34m__pycache__\u001b[m\u001b[m\n",
      "boolean.py\n",
      "data.txt\n",
      "dict.ipynb\n",
      "lists.ipynb\n",
      "math.py\n",
      "messingwith_boolean.py\n",
      "messingwith_files.py\n",
      "messingwith_files_OS_module.py\n",
      "messingwith_for_loop.py\n",
      "messingwith_functions2_argumentandreturn.py\n",
      "messingwith_functions3_tutorial.py\n",
      "messingwith_functions4_scope.py\n",
      "messingwith_functions5_LAMBDA.py\n",
      "messingwith_functions6_Modules.py\n",
      "messingwith_functions_syntax.py\n",
      "messingwith_if.py\n",
      "messingwith_lists.py\n",
      "messingwith_numbers.py\n",
      "messingwith_string.py\n",
      "messingwith_types.py\n",
      "messingwith_while.py\n",
      "outsideofalecture_while_loop.py\n",
      "primes.py\n",
      "sayname.py\n",
      "sendmail.py\n",
      "topic07-files.ipynb\n"
     ]
    }
   ],
   "source": [
    "!ls # this does not run on my windows machine"
   ]
  },
  {
   "cell_type": "code",
   "execution_count": 3,
   "metadata": {
    "scrolled": true
   },
   "outputs": [
    {
     "name": "stdout",
     "output_type": "stream",
     "text": [
      "\u001b[34m__pycache__\u001b[m\u001b[m/\n",
      "boolean.py\n",
      "data.txt\n",
      "dict.ipynb\n",
      "lists.ipynb\n",
      "math.py\n",
      "messingwith_boolean.py\n",
      "messingwith_files.py\n",
      "messingwith_files_OS_module.py\n",
      "messingwith_for_loop.py\n",
      "messingwith_functions2_argumentandreturn.py\n",
      "messingwith_functions3_tutorial.py\n",
      "messingwith_functions4_scope.py\n",
      "messingwith_functions5_LAMBDA.py\n",
      "messingwith_functions6_Modules.py\n",
      "messingwith_functions_syntax.py\n",
      "messingwith_if.py\n",
      "messingwith_lists.py\n",
      "messingwith_numbers.py\n",
      "messingwith_string.py\n",
      "messingwith_types.py\n",
      "messingwith_while.py\n",
      "outsideofalecture_while_loop.py\n",
      "primes.py\n",
      "sayname.py\n",
      "sendmail.py\n",
      "topic07-files.ipynb\n"
     ]
    }
   ],
   "source": [
    "# this will run on all os including my windows machine\n",
    "%ls"
   ]
  },
  {
   "cell_type": "markdown",
   "metadata": {},
   "source": [
    "## Opening files and manipulating files\n",
    "\n",
    "Files should be opened with the ``with open( filename, mode) as f: `` command\n"
   ]
  },
  {
   "cell_type": "code",
   "execution_count": 4,
   "metadata": {},
   "outputs": [
    {
     "ename": "FileNotFoundError",
     "evalue": "[Errno 2] No such file or directory: 'test.txt'",
     "output_type": "error",
     "traceback": [
      "\u001b[0;31m---------------------------------------------------------------------------\u001b[0m",
      "\u001b[0;31mFileNotFoundError\u001b[0m                         Traceback (most recent call last)",
      "Cell \u001b[0;32mIn[4], line 2\u001b[0m\n\u001b[1;32m      1\u001b[0m FILENAME \u001b[38;5;241m=\u001b[39m \u001b[38;5;124m\"\u001b[39m\u001b[38;5;124mtest.txt\u001b[39m\u001b[38;5;124m\"\u001b[39m\n\u001b[0;32m----> 2\u001b[0m \u001b[38;5;28;01mwith\u001b[39;00m \u001b[38;5;28;43mopen\u001b[39;49m\u001b[43m(\u001b[49m\u001b[43mFILENAME\u001b[49m\u001b[43m)\u001b[49m \u001b[38;5;28;01mas\u001b[39;00m f:\n\u001b[1;32m      3\u001b[0m     \u001b[38;5;28mstr\u001b[39m \u001b[38;5;241m=\u001b[39m  f\u001b[38;5;241m.\u001b[39mread()\n\u001b[1;32m      4\u001b[0m     \u001b[38;5;28mprint\u001b[39m (\u001b[38;5;28mstr\u001b[39m)\n",
      "File \u001b[0;32m~/Library/Python/3.9/lib/python/site-packages/IPython/core/interactiveshell.py:310\u001b[0m, in \u001b[0;36m_modified_open\u001b[0;34m(file, *args, **kwargs)\u001b[0m\n\u001b[1;32m    303\u001b[0m \u001b[38;5;28;01mif\u001b[39;00m file \u001b[38;5;129;01min\u001b[39;00m {\u001b[38;5;241m0\u001b[39m, \u001b[38;5;241m1\u001b[39m, \u001b[38;5;241m2\u001b[39m}:\n\u001b[1;32m    304\u001b[0m     \u001b[38;5;28;01mraise\u001b[39;00m \u001b[38;5;167;01mValueError\u001b[39;00m(\n\u001b[1;32m    305\u001b[0m         \u001b[38;5;124mf\u001b[39m\u001b[38;5;124m\"\u001b[39m\u001b[38;5;124mIPython won\u001b[39m\u001b[38;5;124m'\u001b[39m\u001b[38;5;124mt let you open fd=\u001b[39m\u001b[38;5;132;01m{\u001b[39;00mfile\u001b[38;5;132;01m}\u001b[39;00m\u001b[38;5;124m by default \u001b[39m\u001b[38;5;124m\"\u001b[39m\n\u001b[1;32m    306\u001b[0m         \u001b[38;5;124m\"\u001b[39m\u001b[38;5;124mas it is likely to crash IPython. If you know what you are doing, \u001b[39m\u001b[38;5;124m\"\u001b[39m\n\u001b[1;32m    307\u001b[0m         \u001b[38;5;124m\"\u001b[39m\u001b[38;5;124myou can use builtins\u001b[39m\u001b[38;5;124m'\u001b[39m\u001b[38;5;124m open.\u001b[39m\u001b[38;5;124m\"\u001b[39m\n\u001b[1;32m    308\u001b[0m     )\n\u001b[0;32m--> 310\u001b[0m \u001b[38;5;28;01mreturn\u001b[39;00m \u001b[43mio_open\u001b[49m\u001b[43m(\u001b[49m\u001b[43mfile\u001b[49m\u001b[43m,\u001b[49m\u001b[43m \u001b[49m\u001b[38;5;241;43m*\u001b[39;49m\u001b[43margs\u001b[49m\u001b[43m,\u001b[49m\u001b[43m \u001b[49m\u001b[38;5;241;43m*\u001b[39;49m\u001b[38;5;241;43m*\u001b[39;49m\u001b[43mkwargs\u001b[49m\u001b[43m)\u001b[49m\n",
      "\u001b[0;31mFileNotFoundError\u001b[0m: [Errno 2] No such file or directory: 'test.txt'"
     ]
    }
   ],
   "source": [
    "FILENAME = \"test.txt\"\n",
    "with open(FILENAME) as f:\n",
    "    str =  f.read()\n",
    "    print (str)"
   ]
  },
  {
   "cell_type": "markdown",
   "metadata": {},
   "source": [
    "This will open a file called test.txt for reading (it will throw an error if the file does not exist).\n",
    "You can see I ran this after the opening the file in write mode below"
   ]
  },
  {
   "cell_type": "markdown",
   "metadata": {},
   "source": [
    "##### Opening a file in write mode (this will create the file)\n",
    "For example open a text file for writing (if you run this file it will create a file in the same directory as the notebook, you can run the dir/ls command above again and see if test.txt is there, before and after you run the ``open()`` )"
   ]
  },
  {
   "cell_type": "code",
   "execution_count": null,
   "metadata": {},
   "outputs": [],
   "source": [
    "FILENAME = \"test.txt\"\n",
    "with open(FILENAME, 'wt') as f:\n",
    "    f.write(\"hello world2\")"
   ]
  },
  {
   "cell_type": "markdown",
   "metadata": {},
   "source": [
    "This will take care of closing the file once the focus leaves the code block, even if an error occurs.\n",
    "\n",
    "##### The old way (you may see this in some sample code on the internet)\n",
    "The old was of just using the ``open()`` function is not advised\n",
    "\n",
    "```\n",
    "f = open(FILENAME, 'wt')\n",
    "f.write(\"hello World\")\n",
    "f.close()\n",
    "```\n",
    "While the code above looks like it does the same as the ``with`` pattern, the file will not be closed if the ``f.write`` throws an error"
   ]
  },
  {
   "cell_type": "markdown",
   "metadata": {},
   "source": [
    "### The various modes in open()\n",
    "The default mode when you open a file is read (which will throw an error if the file does not exist)\n",
    "But you can open the file in other modes if you wish (eg say you want the file to be created or not)\n",
    "\n",
    "#### Mode\n",
    "| Mode | Description |\n",
    "|---:|:---|\n",
    "| 'a' | Writes will append to an existing file (throws an error if the file does not exist |\n",
    "| 'r' | Read mode, can not write, (throws and error if the file does not exist |\n",
    "| 'r+' | Read and write to existing file (throws an error if the file does not exist |\n",
    "| 'w' | Write mode (no read) and create the file, this will delete the file if it already exists |\n",
    "| 'w+'| write and read and create the file, deleteing the old one |\n",
    "| 'x' | create the file, this will throw an error if the file already exists|\n",
    "\n",
    "#### type of file\n",
    "| letter | type of file |\n",
    "|---:|:---|\n",
    "| 't' | Text file |\n",
    "| 'b' | File with binary data (eg jpeg)\n",
    "\n",
    "\n"
   ]
  },
  {
   "cell_type": "markdown",
   "metadata": {},
   "source": [
    "\n",
    "### Functions for file manipulation\n",
    "\n",
    "Once you have opened a file you can use the functions to read and write to the file (depending on the mode)\n",
    "\n",
    "| Function | Description |\n",
    "| ---------------: | :----------------------------- |\n",
    "| ``read()`` | Reads from the file, the amount of characters depends on the buffer size \n",
    "| ``readline()`` | Reads the next line from the file, returns blank if the end of file is reached, be aware that the string that this returns will have a \\n new line character in it \n",
    "| ``readlines()`` | Returns all the lines as a list \n",
    "| ``for l in f:`` | Or you can use this pattern to loop through all the lines of a file \n",
    "| ``write(data)`` | Writes data to the file \n",
    "| ``print(data, file = f)`` | Or you can use the print function\n",
    "| ``seek(offset)`` | Will move the file pointer along the file by offset number of bytes \n",
    "\n",
    "More information in the python documentation https://docs.python.org/3/library/functions.html#open\n",
    "\n",
    "Which of these functions you can call is dependant on what mode the file is opened in"
   ]
  },
  {
   "cell_type": "markdown",
   "metadata": {},
   "source": [
    "### Some examples\n",
    "\n",
    "Open the text file we created above and output its contents. It is a good idea to speciify whether the file is text or binary "
   ]
  },
  {
   "cell_type": "code",
   "execution_count": 1,
   "metadata": {},
   "outputs": [
    {
     "ename": "FileNotFoundError",
     "evalue": "[Errno 2] No such file or directory: 'test.txt'",
     "output_type": "error",
     "traceback": [
      "\u001b[0;31m---------------------------------------------------------------------------\u001b[0m",
      "\u001b[0;31mFileNotFoundError\u001b[0m                         Traceback (most recent call last)",
      "Cell \u001b[0;32mIn[1], line 1\u001b[0m\n\u001b[0;32m----> 1\u001b[0m \u001b[38;5;28;01mwith\u001b[39;00m \u001b[38;5;28;43mopen\u001b[39;49m\u001b[43m(\u001b[49m\u001b[38;5;124;43m'\u001b[39;49m\u001b[38;5;124;43mtest.txt\u001b[39;49m\u001b[38;5;124;43m'\u001b[39;49m\u001b[43m,\u001b[49m\u001b[43m \u001b[49m\u001b[38;5;124;43m'\u001b[39;49m\u001b[38;5;124;43mrt\u001b[39;49m\u001b[38;5;124;43m'\u001b[39;49m\u001b[43m)\u001b[49m \u001b[38;5;28;01mas\u001b[39;00m f:\n\u001b[1;32m      2\u001b[0m     \u001b[38;5;28;01mfor\u001b[39;00m line \u001b[38;5;129;01min\u001b[39;00m f: \u001b[38;5;66;03m# read each line, one at a time\u001b[39;00m\n\u001b[1;32m      3\u001b[0m         \u001b[38;5;28mprint\u001b[39m (line)\n",
      "File \u001b[0;32m~/Library/Python/3.9/lib/python/site-packages/IPython/core/interactiveshell.py:310\u001b[0m, in \u001b[0;36m_modified_open\u001b[0;34m(file, *args, **kwargs)\u001b[0m\n\u001b[1;32m    303\u001b[0m \u001b[38;5;28;01mif\u001b[39;00m file \u001b[38;5;129;01min\u001b[39;00m {\u001b[38;5;241m0\u001b[39m, \u001b[38;5;241m1\u001b[39m, \u001b[38;5;241m2\u001b[39m}:\n\u001b[1;32m    304\u001b[0m     \u001b[38;5;28;01mraise\u001b[39;00m \u001b[38;5;167;01mValueError\u001b[39;00m(\n\u001b[1;32m    305\u001b[0m         \u001b[38;5;124mf\u001b[39m\u001b[38;5;124m\"\u001b[39m\u001b[38;5;124mIPython won\u001b[39m\u001b[38;5;124m'\u001b[39m\u001b[38;5;124mt let you open fd=\u001b[39m\u001b[38;5;132;01m{\u001b[39;00mfile\u001b[38;5;132;01m}\u001b[39;00m\u001b[38;5;124m by default \u001b[39m\u001b[38;5;124m\"\u001b[39m\n\u001b[1;32m    306\u001b[0m         \u001b[38;5;124m\"\u001b[39m\u001b[38;5;124mas it is likely to crash IPython. If you know what you are doing, \u001b[39m\u001b[38;5;124m\"\u001b[39m\n\u001b[1;32m    307\u001b[0m         \u001b[38;5;124m\"\u001b[39m\u001b[38;5;124myou can use builtins\u001b[39m\u001b[38;5;124m'\u001b[39m\u001b[38;5;124m open.\u001b[39m\u001b[38;5;124m\"\u001b[39m\n\u001b[1;32m    308\u001b[0m     )\n\u001b[0;32m--> 310\u001b[0m \u001b[38;5;28;01mreturn\u001b[39;00m \u001b[43mio_open\u001b[49m\u001b[43m(\u001b[49m\u001b[43mfile\u001b[49m\u001b[43m,\u001b[49m\u001b[43m \u001b[49m\u001b[38;5;241;43m*\u001b[39;49m\u001b[43margs\u001b[49m\u001b[43m,\u001b[49m\u001b[43m \u001b[49m\u001b[38;5;241;43m*\u001b[39;49m\u001b[38;5;241;43m*\u001b[39;49m\u001b[43mkwargs\u001b[49m\u001b[43m)\u001b[49m\n",
      "\u001b[0;31mFileNotFoundError\u001b[0m: [Errno 2] No such file or directory: 'test.txt'"
     ]
    }
   ],
   "source": [
    "with open('test.txt', 'rt') as f:\n",
    "    for line in f: # read each line, one at a time\n",
    "        print (line)\n",
    "    "
   ]
  },
  {
   "cell_type": "markdown",
   "metadata": {},
   "source": [
    "Try to open a file that does not exist in read write mode. (This throws an error"
   ]
  },
  {
   "cell_type": "code",
   "execution_count": null,
   "metadata": {},
   "outputs": [
    {
     "ename": "",
     "evalue": "",
     "output_type": "error",
     "traceback": [
      "\u001b[1;31mThe kernel failed to start due to an error with the 'pyzmq' module. Consider re-installing this module.\n",
      "\u001b[1;31mClick <a href='https://aka.ms/kernelFailuresPyzmq'>here</a> for more info."
     ]
    }
   ],
   "source": [
    "with open('nofileofthisname.txt', 'r+t') as f:\n",
    "    print (f.read())"
   ]
  },
  {
   "cell_type": "markdown",
   "metadata": {},
   "source": [
    "Lets over write the file we created, and see its new contents (it will be empty)"
   ]
  },
  {
   "cell_type": "code",
   "execution_count": null,
   "metadata": {},
   "outputs": [
    {
     "ename": "",
     "evalue": "",
     "output_type": "error",
     "traceback": [
      "\u001b[1;31mThe kernel failed to start due to an error with the 'pyzmq' module. Consider re-installing this module.\n",
      "\u001b[1;31mClick <a href='https://aka.ms/kernelFailuresPyzmq'>here</a> for more info."
     ]
    }
   ],
   "source": [
    "with open('test.txt', 'w+t') as f:\n",
    "    for line in f:\n",
    "        print (line)\n",
    "    print (\"The file is now empty\")"
   ]
  },
  {
   "cell_type": "markdown",
   "metadata": {},
   "source": [
    "## The ``os`` module\n",
    "\n",
    "The ``os`` module is a built in module for Miscellaneous operating system interfaces.\n",
    "It  can be used for manipulating the file system, there are a lot of functions in it I will be only looking at a few. See references below\n",
    "\n",
    "### Deleting a file\n",
    "Use the os module and its ``remove()`` function.\n"
   ]
  },
  {
   "cell_type": "code",
   "execution_count": 2,
   "metadata": {},
   "outputs": [
    {
     "ename": "FileNotFoundError",
     "evalue": "[Errno 2] No such file or directory: 'test.txt'",
     "output_type": "error",
     "traceback": [
      "\u001b[0;31m---------------------------------------------------------------------------\u001b[0m",
      "\u001b[0;31mFileNotFoundError\u001b[0m                         Traceback (most recent call last)",
      "Cell \u001b[0;32mIn[2], line 2\u001b[0m\n\u001b[1;32m      1\u001b[0m \u001b[38;5;28;01mimport\u001b[39;00m \u001b[38;5;21;01mos\u001b[39;00m\n\u001b[0;32m----> 2\u001b[0m \u001b[43mos\u001b[49m\u001b[38;5;241;43m.\u001b[39;49m\u001b[43mremove\u001b[49m\u001b[43m(\u001b[49m\u001b[38;5;124;43m'\u001b[39;49m\u001b[38;5;124;43mtest.txt\u001b[39;49m\u001b[38;5;124;43m'\u001b[39;49m\u001b[43m)\u001b[49m  \u001b[38;5;66;03m# this will remove the test.txt file\u001b[39;00m\n",
      "\u001b[0;31mFileNotFoundError\u001b[0m: [Errno 2] No such file or directory: 'test.txt'"
     ]
    }
   ],
   "source": [
    "import os\n",
    "os.remove('test.txt')  # this will remove the test.txt file"
   ]
  },
  {
   "cell_type": "markdown",
   "metadata": {},
   "source": [
    "For directories use the ``rmdir()`` function (only on empty directories)\n",
    "```\n",
    "import os\n",
    "os.rmdir('directory_name') # removes an empty directory\n",
    "```"
   ]
  },
  {
   "cell_type": "markdown",
   "metadata": {},
   "source": [
    "### To check if a file exists \n",
    "use ``os.path.exists()``"
   ]
  },
  {
   "cell_type": "code",
   "execution_count": null,
   "metadata": {},
   "outputs": [
    {
     "ename": "",
     "evalue": "",
     "output_type": "error",
     "traceback": [
      "\u001b[1;31mThe kernel failed to start due to an error with the 'pyzmq' module. Consider re-installing this module.\n",
      "\u001b[1;31mClick <a href='https://aka.ms/kernelFailuresPyzmq'>here</a> for more info."
     ]
    }
   ],
   "source": [
    "# I am assuming that os is already imported\n",
    "filename = 'test.txt'\n",
    "if os.path.exists(filename):\n",
    "    print (filename, \"already exists\")\n",
    "else:\n",
    "    print(filename, \"does not exist do you want to create it?\")\n",
    "    "
   ]
  },
  {
   "cell_type": "markdown",
   "metadata": {},
   "source": [
    "More on this in realpython and the python documentation on ``os``"
   ]
  },
  {
   "cell_type": "markdown",
   "metadata": {},
   "source": [
    "## File Formats\n",
    "Files can have different format, Here are a few examples of different formats\n",
    "\n",
    "| Format | Description | Example |\n",
    "| --- | :--- | :--- |\n",
    "| text | Simple text format, easy for a human to read, not easy to parse the data from | The rain in spain falls mainly in the plain|\n",
    "| JSON | JavaScript Object Notation, very useful for passing and storing dictionary object | {\"weather\": {\"area\":\"spainish plain\", \"forcast\": \"rain\"}} |\n",
    "| CSV | comma seperated variables, useful for storing tables of data | spain, plain , rain |\n",
    "| TSV | Tab seperated variables same as CSV except with TABS | |\n",
    "| Pickle | A binary file format used for storing Python Objects (variables and functions | hard to read by humans |\n",
    "| XML | Extended markup language, used for storing data | ```<weather> <area> spainish plain </area> <forcast> rain </forcast> </weather>``` |\n",
    "| XSL | excel spreadsheet, this is in a binary fomat| hard to read by humans |\n",
    "\n",
    "There are many more formats.\n",
    "Python has packages (modules) that are designed to help you manipulate files in different formast eg\n",
    "\n",
    "`` import csv ``: For maniputating CSV and TSV files\n",
    "\n",
    "`` import json `` : For maniputating JSON files\n",
    "\n",
    "`` import pandas``: For excel spreadsheets and SQL database tables, this is very handy for data analysis, see week 10\n",
    "\n",
    "There are of course many more\n"
   ]
  },
  {
   "cell_type": "markdown",
   "metadata": {},
   "source": [
    "### JSON \n",
    "**Java Script Object Notation**\n",
    "The format of JSON looks very like a Dict object, except it always has ``\"`` (double quotes) instead of ``'`` (single quotes)\n",
    "eg\n",
    "````\n",
    "{\n",
    "    \"name\" : \"Andrew\",\n",
    "    \"modules\":[\n",
    "        {\"subject\": \"Math\", \"grade\": 77},\n",
    "        {\"subject\": \"PANDS\", \"grade\": 46}\n",
    "    ]\n",
    "    \n",
    "}\n",
    "````\n",
    "|  | |  |\n",
    "| :--- | :---: | :--- |\n",
    "| Strings | have | ````\"\"````|\n",
    "| Integers | have | no quotes |\n",
    "| Objects | have | ````{}```` |\n",
    "| Lists | have | ```[]``` |\n",
    "\n",
    "\n",
    "There is a molule called ``json`` that helps with manipulation (it comes with anaconda)\n",
    "``dump()`` saves a dict as JSON into a file\n",
    "``load()`` reads JSON from a file and returns a Dict object\n",
    "\n",
    "Here are two scripts\n",
    "1. Saves a dict object to a file called storeData.json, Note: we open the file in write mode so the file will be created or overwriten each time we save\n",
    "2. reads the file and prints some of the data\n",
    "navigate to this directory and see what is in the storeData.json\n",
    "\n",
    "see references for more information on the JSON module"
   ]
  },
  {
   "cell_type": "code",
   "execution_count": 1,
   "metadata": {},
   "outputs": [],
   "source": [
    "import json\n",
    "\n",
    "electricBill = {\n",
    "    'name' : 'Andrew',\n",
    "    'amount' : '99999'\n",
    "}\n",
    "\n",
    "with open(\"storeData.json\", \"wt\") as f:\n",
    "    json.dump(electricBill, f) # writes the dictionary object to the file as a JSON object\n",
    "\n"
   ]
  },
  {
   "cell_type": "code",
   "execution_count": 2,
   "metadata": {},
   "outputs": [
    {
     "name": "stdout",
     "output_type": "stream",
     "text": [
      "{\"name\": \"Andrew\", \"amount\": \"99999\"}"
     ]
    }
   ],
   "source": [
    "FILENAME=\"storeData.json\"\n",
    "with open(FILENAME, \"rt\") as file:\n",
    "    for line in file:\n",
    "        print (line, end='')"
   ]
  },
  {
   "cell_type": "code",
   "execution_count": null,
   "metadata": {},
   "outputs": [],
   "source": [
    "# I am assuming that json has already been imported\n",
    "\n",
    "# assuming theat the file storedata exists and contains json\n",
    "with open(\"storeData.json\", \"rt\") as f:\n",
    "    readDict = json.load(f) # reads the file and converts the JSON object into a list of dictionary \n",
    "    print (readDict[\"amount\"])"
   ]
  },
  {
   "cell_type": "markdown",
   "metadata": {},
   "source": [
    "The docs on the Json module https://docs.python.org/3/library/json.html"
   ]
  },
  {
   "cell_type": "markdown",
   "metadata": {},
   "source": [
    "### CSV \n",
    "These are a little more basic, hence complicated to manipulate.\n",
    "\n",
    "**Comma Separated Variables** (Could also be tab seperted or any other delimiter)\n",
    "ie it is a file that has data like this\n",
    "```\n",
    "first, last, age\n",
    "Andrew, Beatty, 21\n",
    "Mary, Jones, 33\n",
    "john, McGuire, 44\n",
    "```\n",
    "one way to extract this data is to user the CSV module (it comes with anaconda)\n",
    "\n",
    "\n",
    "##### Reading\n",
    "use csv.reader (the default delimiter is , (comma)\n",
    "when you use the file line in reader pattern, \n",
    "line will contain a list of the variables on each line"
   ]
  },
  {
   "cell_type": "code",
   "execution_count": 8,
   "metadata": {},
   "outputs": [
    {
     "ename": "FileNotFoundError",
     "evalue": "[Errno 2] No such file or directory: 'data.csv'",
     "output_type": "error",
     "traceback": [
      "\u001b[0;31m---------------------------------------------------------------------------\u001b[0m",
      "\u001b[0;31mFileNotFoundError\u001b[0m                         Traceback (most recent call last)",
      "Cell \u001b[0;32mIn[8], line 2\u001b[0m\n\u001b[1;32m      1\u001b[0m FILENAME\u001b[38;5;241m=\u001b[39m\u001b[38;5;124m\"\u001b[39m\u001b[38;5;124mdata.csv\u001b[39m\u001b[38;5;124m\"\u001b[39m\n\u001b[0;32m----> 2\u001b[0m \u001b[38;5;28;01mwith\u001b[39;00m \u001b[38;5;28mopen\u001b[39m(FILENAME, \u001b[38;5;124m\"\u001b[39m\u001b[38;5;124mrt\u001b[39m\u001b[38;5;124m\"\u001b[39m) \u001b[38;5;28;01mas\u001b[39;00m file:\n\u001b[1;32m      3\u001b[0m     \u001b[38;5;28;01mfor\u001b[39;00m line \u001b[38;5;129;01min\u001b[39;00m file:\n\u001b[1;32m      4\u001b[0m         \u001b[38;5;28mprint\u001b[39m (line, end\u001b[38;5;241m=\u001b[39m\u001b[38;5;124m'\u001b[39m\u001b[38;5;124m'\u001b[39m)\n",
      "File \u001b[0;32m~/anaconda3/lib/python3.11/site-packages/IPython/core/interactiveshell.py:310\u001b[0m, in \u001b[0;36m_modified_open\u001b[0;34m(file, *args, **kwargs)\u001b[0m\n\u001b[1;32m    303\u001b[0m \u001b[38;5;28;01mif\u001b[39;00m file \u001b[38;5;129;01min\u001b[39;00m {\u001b[38;5;241m0\u001b[39m, \u001b[38;5;241m1\u001b[39m, \u001b[38;5;241m2\u001b[39m}:\n\u001b[1;32m    304\u001b[0m     \u001b[38;5;28;01mraise\u001b[39;00m \u001b[38;5;167;01mValueError\u001b[39;00m(\n\u001b[1;32m    305\u001b[0m         \u001b[38;5;124mf\u001b[39m\u001b[38;5;124m\"\u001b[39m\u001b[38;5;124mIPython won\u001b[39m\u001b[38;5;124m'\u001b[39m\u001b[38;5;124mt let you open fd=\u001b[39m\u001b[38;5;132;01m{\u001b[39;00mfile\u001b[38;5;132;01m}\u001b[39;00m\u001b[38;5;124m by default \u001b[39m\u001b[38;5;124m\"\u001b[39m\n\u001b[1;32m    306\u001b[0m         \u001b[38;5;124m\"\u001b[39m\u001b[38;5;124mas it is likely to crash IPython. If you know what you are doing, \u001b[39m\u001b[38;5;124m\"\u001b[39m\n\u001b[1;32m    307\u001b[0m         \u001b[38;5;124m\"\u001b[39m\u001b[38;5;124myou can use builtins\u001b[39m\u001b[38;5;124m'\u001b[39m\u001b[38;5;124m open.\u001b[39m\u001b[38;5;124m\"\u001b[39m\n\u001b[1;32m    308\u001b[0m     )\n\u001b[0;32m--> 310\u001b[0m \u001b[38;5;28;01mreturn\u001b[39;00m io_open(file, \u001b[38;5;241m*\u001b[39margs, \u001b[38;5;241m*\u001b[39m\u001b[38;5;241m*\u001b[39mkwargs)\n",
      "\u001b[0;31mFileNotFoundError\u001b[0m: [Errno 2] No such file or directory: 'data.csv'"
     ]
    }
   ],
   "source": [
    "FILENAME=\"data.csv\"\n",
    "with open(FILENAME, \"rt\") as file:\n",
    "    for line in file:\n",
    "        print (line, end='')"
   ]
  },
  {
   "cell_type": "code",
   "execution_count": 10,
   "metadata": {},
   "outputs": [
    {
     "ename": "FileNotFoundError",
     "evalue": "[Errno 2] No such file or directory: 'data.csv'",
     "output_type": "error",
     "traceback": [
      "\u001b[0;31m---------------------------------------------------------------------------\u001b[0m",
      "\u001b[0;31mFileNotFoundError\u001b[0m                         Traceback (most recent call last)",
      "Cell \u001b[0;32mIn[10], line 3\u001b[0m\n\u001b[1;32m      1\u001b[0m \u001b[38;5;28;01mimport\u001b[39;00m \u001b[38;5;21;01mcsv\u001b[39;00m\n\u001b[1;32m      2\u001b[0m FILENAME\u001b[38;5;241m=\u001b[39m\u001b[38;5;124m\"\u001b[39m\u001b[38;5;124mdata.csv\u001b[39m\u001b[38;5;124m\"\u001b[39m\n\u001b[0;32m----> 3\u001b[0m \u001b[38;5;28;01mwith\u001b[39;00m \u001b[38;5;28mopen\u001b[39m(FILENAME, \u001b[38;5;124m\"\u001b[39m\u001b[38;5;124mrt\u001b[39m\u001b[38;5;124m\"\u001b[39m) \u001b[38;5;28;01mas\u001b[39;00m file:\n\u001b[1;32m      4\u001b[0m     csvReader \u001b[38;5;241m=\u001b[39m csv\u001b[38;5;241m.\u001b[39mreader(file, delimiter \u001b[38;5;241m=\u001b[39m \u001b[38;5;124m'\u001b[39m\u001b[38;5;124m,\u001b[39m\u001b[38;5;124m'\u001b[39m) \u001b[38;5;66;03m# delimiter can be anything, in this case a comma\u001b[39;00m\n\u001b[1;32m      5\u001b[0m     \u001b[38;5;28;01mfor\u001b[39;00m line \u001b[38;5;129;01min\u001b[39;00m csvReader: \u001b[38;5;66;03m# line will be a list containing the variables in each line\u001b[39;00m\n",
      "File \u001b[0;32m~/anaconda3/lib/python3.11/site-packages/IPython/core/interactiveshell.py:310\u001b[0m, in \u001b[0;36m_modified_open\u001b[0;34m(file, *args, **kwargs)\u001b[0m\n\u001b[1;32m    303\u001b[0m \u001b[38;5;28;01mif\u001b[39;00m file \u001b[38;5;129;01min\u001b[39;00m {\u001b[38;5;241m0\u001b[39m, \u001b[38;5;241m1\u001b[39m, \u001b[38;5;241m2\u001b[39m}:\n\u001b[1;32m    304\u001b[0m     \u001b[38;5;28;01mraise\u001b[39;00m \u001b[38;5;167;01mValueError\u001b[39;00m(\n\u001b[1;32m    305\u001b[0m         \u001b[38;5;124mf\u001b[39m\u001b[38;5;124m\"\u001b[39m\u001b[38;5;124mIPython won\u001b[39m\u001b[38;5;124m'\u001b[39m\u001b[38;5;124mt let you open fd=\u001b[39m\u001b[38;5;132;01m{\u001b[39;00mfile\u001b[38;5;132;01m}\u001b[39;00m\u001b[38;5;124m by default \u001b[39m\u001b[38;5;124m\"\u001b[39m\n\u001b[1;32m    306\u001b[0m         \u001b[38;5;124m\"\u001b[39m\u001b[38;5;124mas it is likely to crash IPython. If you know what you are doing, \u001b[39m\u001b[38;5;124m\"\u001b[39m\n\u001b[1;32m    307\u001b[0m         \u001b[38;5;124m\"\u001b[39m\u001b[38;5;124myou can use builtins\u001b[39m\u001b[38;5;124m'\u001b[39m\u001b[38;5;124m open.\u001b[39m\u001b[38;5;124m\"\u001b[39m\n\u001b[1;32m    308\u001b[0m     )\n\u001b[0;32m--> 310\u001b[0m \u001b[38;5;28;01mreturn\u001b[39;00m io_open(file, \u001b[38;5;241m*\u001b[39margs, \u001b[38;5;241m*\u001b[39m\u001b[38;5;241m*\u001b[39mkwargs)\n",
      "\u001b[0;31mFileNotFoundError\u001b[0m: [Errno 2] No such file or directory: 'data.csv'"
     ]
    }
   ],
   "source": [
    "import csv\n",
    "FILENAME=\"data.csv\"\n",
    "with open(FILENAME, \"rt\") as file:\n",
    "    csvReader = csv.reader(file, delimiter = ',') # delimiter can be anything, in this case a comma\n",
    "    for line in csvReader: # line will be a list containing the variables in each line\n",
    "        age = line[2]   # the age\n",
    "        print(age)      # note this is printing the header row, I provide a solution to this in the tutorial"
   ]
  },
  {
   "cell_type": "markdown",
   "metadata": {},
   "source": [
    "##### Writing\n",
    "Writing a CSV can be a little more complicated, \n",
    "the CSV module can take dictionaries, list of lists and other formats\n",
    "I think I will do more of this in later weeks\n",
    "\n",
    "NOTE: the newline='' fixes an issue in windows where an extra carrage return is put in at the end of each row\n",
    "ie a blank line"
   ]
  },
  {
   "cell_type": "code",
   "execution_count": 14,
   "metadata": {},
   "outputs": [
    {
     "name": "stdout",
     "output_type": "stream",
     "text": [
      "{'first': 'Andrew', 'last': 'Beatty', 'age': '2'}\n",
      "{'first': 'joe', 'last': 'Bloggs', 'age': '22'}\n",
      "{'first': 'Mary', 'last': 'mc', 'age': '2222'}\n"
     ]
    }
   ],
   "source": [
    "mydict =[{'first': 'Andrew', 'last': 'Beatty', 'age':'2'},\n",
    "         {'first': 'joe', 'last': 'Bloggs', 'age':'22'},\n",
    "         {'first': 'Mary', 'last': 'mc', 'age':'2222'} \n",
    "        ] \n",
    "    \n",
    "# field names \n",
    "fields = ['first', 'last', 'age'] \n",
    "    \n",
    "# name of csv file \n",
    "FILENAME = \"data.csv\"\n",
    "    \n",
    "# writing to csv file \n",
    "with open(FILENAME, 'w', newline='') as csvfile: \n",
    "    # creating a csv dict writer object \n",
    "    writer = csv.DictWriter(csvfile, fieldnames = fields) \n",
    "        \n",
    "    # writing headers (field names) \n",
    "    writer.writeheader() \n",
    "    for dictrow in mydict:\n",
    "        print(dictrow)\n",
    "        writer.writerow(dictrow) "
   ]
  },
  {
   "cell_type": "markdown",
   "metadata": {},
   "source": [
    "There is much more on this, but that for future weeks\n",
    "I have made a tutorial video, showing how you could extract an email domain from a list of email addresses stored in a csv file, see VLE"
   ]
  },
  {
   "cell_type": "markdown",
   "metadata": {},
   "source": [
    "### References\n",
    "\n",
    "- W3schools on files : https://www.w3schools.com/python/python_file_handling.asp\n",
    "- realpython on file manipulation and the OS module: https://realpython.com/working-with-files-in-python/\n",
    "- python documentation : https://docs.python.org/3/library/os.html#files-and-directories\n",
    "- JSON Module: https://docs.python.org/3/library/json.html\n",
    "- JSON Tutorial in real python: https://realpython.com/python-json/\n",
    "- CSV Module: https://docs.python.org/3/library/csv.html\n",
    "- CSV Tutorial in Real Python: https://realpython.com/python-csv/\n"
   ]
  }
 ],
 "metadata": {
  "anaconda-cloud": {},
  "kernelspec": {
   "display_name": "Python 3 (ipykernel)",
   "language": "python",
   "name": "python3"
  },
  "language_info": {
   "codemirror_mode": {
    "name": "ipython",
    "version": 3
   },
   "file_extension": ".py",
   "mimetype": "text/x-python",
   "name": "python",
   "nbconvert_exporter": "python",
   "pygments_lexer": "ipython3",
   "version": "3.11.9"
  }
 },
 "nbformat": 4,
 "nbformat_minor": 4
}
